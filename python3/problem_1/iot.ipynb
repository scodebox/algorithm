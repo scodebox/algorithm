{
 "metadata": {
  "language_info": {
   "codemirror_mode": {
    "name": "ipython",
    "version": 3
   },
   "file_extension": ".py",
   "mimetype": "text/x-python",
   "name": "python",
   "nbconvert_exporter": "python",
   "pygments_lexer": "ipython3",
   "version": "3.8.5-final"
  },
  "orig_nbformat": 2,
  "kernelspec": {
   "name": "python3",
   "display_name": "Python 3",
   "language": "python"
  }
 },
 "nbformat": 4,
 "nbformat_minor": 2,
 "cells": [
  {
   "cell_type": "code",
   "execution_count": 2,
   "metadata": {},
   "outputs": [
    {
     "output_type": "stream",
     "name": "stdout",
     "text": [
      "{'75:56:92:75:c7:7a': 0.11, '92:6b:7e:82:3b:46': 0.22, '0f:fe:0f:23:32:6a': 0.16, 'da:be:77:8e:5e:c3': 0.12, '82:cd:f7:d7:25:27': 0.15, 'c6:ed:fb:56:22:92': 0.1, '4c:5d:00:ef:a2:7f': 0.14}\n"
     ]
    }
   ],
   "source": [
    "device_details = {\n",
    "    '75:56:92:75:c7:7a':0.11,\n",
    "    '92:6b:7e:82:3b:46':0.22,\n",
    "    '0f:fe:0f:23:32:6a':0.16,\n",
    "    'da:be:77:8e:5e:c3':0.12,\n",
    "    '82:cd:f7:d7:25:27':0.15,\n",
    "    'c6:ed:fb:56:22:92':0.10,\n",
    "    '4c:5d:00:ef:a2:7f':0.14\n",
    "}\n",
    "\n",
    "print (device_details)"
   ]
  },
  {
   "cell_type": "code",
   "execution_count": 15,
   "metadata": {},
   "outputs": [
    {
     "output_type": "stream",
     "name": "stdout",
     "text": [
      "[<__main__.HeapNode object at 0x7f36625c0c40>, <__main__.HeapNode object at 0x7f36625c0a90>, <__main__.HeapNode object at 0x7f36625c0d00>, <__main__.HeapNode object at 0x7f36625c08b0>, <__main__.HeapNode object at 0x7f36625c0bb0>, <__main__.HeapNode object at 0x7f36625c08e0>, <__main__.HeapNode object at 0x7f36625c0ca0>]\n"
     ]
    }
   ],
   "source": [
    "import heapq\n",
    "\n",
    "class HeapNode:\n",
    "    def __init__(self, mac, probability):\n",
    "        self.mac = mac\n",
    "        self.probability = probability\n",
    "        self.left = None\n",
    "        self.right = None\n",
    "\n",
    "    def __lt__(self,other):\n",
    "        return self.probability < other.probability\n",
    "\n",
    "    def __eq__(self,other):\n",
    "        if other == None:\n",
    "            return False\n",
    "        if not isinstance(other, HeapNode):\n",
    "            return False\n",
    "        return self.probability == other.probability\n",
    "\n",
    "    def show_details(self):\n",
    "        print('MAC : ',self.mac)\n",
    "        print('PROB : ',self.probability)\n",
    "        print('LEFT NODE : ',self.left)\n",
    "        print('RIGHT NODE',self.right)\n",
    "\n",
    "\n",
    "device_heap = []\n",
    "\n",
    "for mac in device_details.keys():\n",
    "    new_node = HeapNode(mac,device_details[mac])\n",
    "    heapq.heappush(device_heap,new_node)\n",
    "\n",
    "print (device_heap)"
   ]
  },
  {
   "cell_type": "code",
   "execution_count": 17,
   "metadata": {},
   "outputs": [
    {
     "output_type": "stream",
     "name": "stdout",
     "text": [
      "[<__main__.HeapNode object at 0x7f36625c0c40>, <__main__.HeapNode object at 0x7f36625c0a90>, <__main__.HeapNode object at 0x7f36625c0d00>, <__main__.HeapNode object at 0x7f36625c08b0>, <__main__.HeapNode object at 0x7f36625c0bb0>, <__main__.HeapNode object at 0x7f36625c08e0>, <__main__.HeapNode object at 0x7f36625c0ca0>]\n"
     ]
    }
   ],
   "source": [
    "heapq.heapify(device_heap)\n",
    "print(device_heap)"
   ]
  },
  {
   "cell_type": "code",
   "execution_count": 18,
   "metadata": {},
   "outputs": [
    {
     "output_type": "stream",
     "name": "stdout",
     "text": [
      "MAC :  c6:ed:fb:56:22:92\nPROB :  0.1\nLEFT NODE :  None\nRIGHT NODE None\n"
     ]
    }
   ],
   "source": [
    "t = heapq.heappop(device_heap)\n",
    "t.show_details()"
   ]
  }
 ]
}