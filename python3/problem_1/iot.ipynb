{
 "metadata": {
  "language_info": {
   "codemirror_mode": {
    "name": "ipython",
    "version": 3
   },
   "file_extension": ".py",
   "mimetype": "text/x-python",
   "name": "python",
   "nbconvert_exporter": "python",
   "pygments_lexer": "ipython3",
   "version": "3.8.5-final"
  },
  "orig_nbformat": 2,
  "kernelspec": {
   "name": "python3",
   "display_name": "Python 3",
   "language": "python"
  }
 },
 "nbformat": 4,
 "nbformat_minor": 2,
 "cells": [
  {
   "source": [
    "\n",
    "## **Unique ID Generation for IoT Devices using Huffman Coding Technique**\n",
    "#### _Suvam Basak_\n",
    "#### _MTech IT_\n",
    "#### _REG: 20MCMB08_\n",
    "\n",
    "*********************************"
   ],
   "cell_type": "markdown",
   "metadata": {}
  },
  {
   "source": [
    "List of MAC address of devices and the probability of sending messages."
   ],
   "cell_type": "markdown",
   "metadata": {}
  },
  {
   "cell_type": "code",
   "execution_count": 1,
   "metadata": {},
   "outputs": [
    {
     "output_type": "stream",
     "name": "stdout",
     "text": [
      "{'75:56:92:75:c7:7a': 0.11, '92:6b:7e:82:3b:46': 0.22, '0f:fe:0f:23:32:6a': 0.16, 'da:be:77:8e:5e:c3': 0.12, '82:cd:f7:d7:25:27': 0.15, 'c6:ed:fb:56:22:92': 0.1, '4c:5d:00:ef:a2:7f': 0.14}\n"
     ]
    }
   ],
   "source": [
    "# Python dictionary for MAC and the probability.\n",
    "\n",
    "device_details = {\n",
    "    '75:56:92:75:c7:7a':0.11,\n",
    "    '92:6b:7e:82:3b:46':0.22,\n",
    "    '0f:fe:0f:23:32:6a':0.16,\n",
    "    'da:be:77:8e:5e:c3':0.12,\n",
    "    '82:cd:f7:d7:25:27':0.15,\n",
    "    'c6:ed:fb:56:22:92':0.10,\n",
    "    '4c:5d:00:ef:a2:7f':0.14\n",
    "}\n",
    "\n",
    "print (device_details)\n"
   ]
  },
  {
   "source": [
    "Class of the node for each IoT devices in the network."
   ],
   "cell_type": "markdown",
   "metadata": {}
  },
  {
   "cell_type": "code",
   "execution_count": 2,
   "metadata": {},
   "outputs": [],
   "source": [
    "class HeapNode:\n",
    "    '''\n",
    "    This is the class of Devices. Takes the MAC address of devices and the probability.\n",
    "    For leaf node left and right will be None.\n",
    "    For internal node left and right will be holding the child node.\n",
    "    '''\n",
    "    def __init__(self, mac, probability):\n",
    "        self.mac = mac\n",
    "        self.probability = probability\n",
    "        self.left = None\n",
    "        self.right = None\n",
    "\n",
    "    # Operator Overloading\n",
    "\n",
    "    # lessthan will compare the probability of two object.\n",
    "    def __lt__(self,other):\n",
    "        return self.probability < other.probability\n",
    "    \n",
    "    # equal will check equality of probability of two object.\n",
    "    def __eq__(self,other):\n",
    "        if other == None:\n",
    "            return False\n",
    "        if not isinstance(other, HeapNode):\n",
    "            return False\n",
    "        return self.probability == other.probability\n",
    "\n",
    "    # Show the details.\n",
    "    def show_details(self):\n",
    "        print('MAC : ',self.mac)\n",
    "        print('PROB : ',self.probability)\n",
    "        print('LEFT NODE : ',self.left)\n",
    "        print('RIGHT NODE',self.right)\n",
    "        "
   ]
  },
  {
   "source": [
    "We need a Min Heap data structure for Huffman coding."
   ],
   "cell_type": "markdown",
   "metadata": {}
  },
  {
   "cell_type": "code",
   "execution_count": 3,
   "metadata": {},
   "outputs": [],
   "source": [
    "import heapq\n",
    "\n",
    "# List for storing heap of HeapNode object.\n",
    "device_heap = []\n"
   ]
  },
  {
   "source": [
    "Creating the HeapNode for each device and adding it into the device heap."
   ],
   "cell_type": "markdown",
   "metadata": {}
  },
  {
   "cell_type": "code",
   "execution_count": 4,
   "metadata": {},
   "outputs": [
    {
     "output_type": "stream",
     "name": "stdout",
     "text": [
      "[<__main__.HeapNode object at 0x7f20fc11fa90>, <__main__.HeapNode object at 0x7f20fc11f910>, <__main__.HeapNode object at 0x7f20fc11f7c0>, <__main__.HeapNode object at 0x7f20fc11f9d0>, <__main__.HeapNode object at 0x7f20fc11fa30>, <__main__.HeapNode object at 0x7f20fc11f940>, <__main__.HeapNode object at 0x7f20fc11fac0>]\n"
     ]
    }
   ],
   "source": [
    "for mac in device_details.keys():\n",
    "    # Create HeapNode of each devices.\n",
    "    new_node = HeapNode(mac,device_details[mac])\n",
    "    # Adding into heap.\n",
    "    heapq.heappush(device_heap,new_node)\n",
    "\n",
    "print (device_heap)"
   ]
  },
  {
   "source": [
    "Building the tree structure by:\n",
    "\n",
    "1. Extracting two nodes (node1, node2) having minimal probability.\n",
    "2. Create new node (new_node) with a probability = (node1 probability + node2 probability).\n",
    "3. Setting node1 and node2 left and right child of new_node.\n",
    "4. Adding the new_node into the heap."
   ],
   "cell_type": "markdown",
   "metadata": {}
  },
  {
   "cell_type": "code",
   "execution_count": 5,
   "metadata": {},
   "outputs": [
    {
     "output_type": "stream",
     "name": "stdout",
     "text": [
      "MAC :  None\nPROB :  1.0\nLEFT NODE :  <__main__.HeapNode object at 0x7f20fc11f400>\nRIGHT NODE <__main__.HeapNode object at 0x7f20fc11f700>\n"
     ]
    }
   ],
   "source": [
    "while len(device_heap)>1:\n",
    "    # Heapify the device_heap list.\n",
    "    heapq.heapify(device_heap)\n",
    "    # Extracting two minimal node.\n",
    "    node1 = heapq.heappop(device_heap)\n",
    "    node2 = heapq.heappop(device_heap)\n",
    "    # Creating new node and setting left and right child.\n",
    "    new_node = HeapNode(None,(node1.probability+node2.probability))\n",
    "    new_node.left = node1\n",
    "    new_node.right = node2\n",
    "    # Adding new node into heap.\n",
    "    heapq.heappush(device_heap,new_node)\n",
    "\n",
    "# Showing details of root node.\n",
    "head = device_heap[0]\n",
    "head.show_details()"
   ]
  },
  {
   "source": [
    "Recursive function for generating the device IDs. The function takes root node and the current_id (by default empty string). For each non leaf node it recursively calls it self with left and right child. For left child it appends '0' to the current_id and '1' for right child."
   ],
   "cell_type": "markdown",
   "metadata": {}
  },
  {
   "cell_type": "code",
   "execution_count": 6,
   "metadata": {},
   "outputs": [
    {
     "output_type": "stream",
     "name": "stdout",
     "text": [
      "c6:ed:fb:56:22:92 000\n75:56:92:75:c7:7a 001\n92:6b:7e:82:3b:46 01\nda:be:77:8e:5e:c3 100\n4c:5d:00:ef:a2:7f 101\n82:cd:f7:d7:25:27 110\n0f:fe:0f:23:32:6a 111\n"
     ]
    }
   ],
   "source": [
    "# Python dictionary for storing the device IDs.\n",
    "device_ids = {}\n",
    "\n",
    "# Function to Generate the IDs.\n",
    "def generate_id(root, current_id=''):\n",
    "    # If the node is the leaf node.\n",
    "    if (root.left == None) and (root.right == None):\n",
    "        device_ids[root.mac]=current_id\n",
    "        print(root.mac,current_id)\n",
    "        return\n",
    "    else:\n",
    "        # recursive call for internal nodes.\n",
    "        generate_id(root.left,current_id+'0')\n",
    "        generate_id(root.right,current_id+'1')\n",
    "\n",
    "# Calling the function with root node.\n",
    "generate_id(head)"
   ]
  },
  {
   "source": [
    "All the generated IDs are stored in the dictionary device_ids."
   ],
   "cell_type": "markdown",
   "metadata": {}
  },
  {
   "cell_type": "code",
   "execution_count": 7,
   "metadata": {},
   "outputs": [
    {
     "output_type": "stream",
     "name": "stdout",
     "text": [
      "{'c6:ed:fb:56:22:92': '000', '75:56:92:75:c7:7a': '001', '92:6b:7e:82:3b:46': '01', 'da:be:77:8e:5e:c3': '100', '4c:5d:00:ef:a2:7f': '101', '82:cd:f7:d7:25:27': '110', '0f:fe:0f:23:32:6a': '111'}\n"
     ]
    }
   ],
   "source": [
    "print (device_ids)"
   ]
  },
  {
   "source": [
    "### Results\n",
    "\n",
    "|     **MAC**     |**probability**|**ID**|\n",
    "|-----------------|:-------------:|:----:|\n",
    "|75:56:92:75:c7:7a|           0.11|   001|\n",
    "|92:6b:7e:82:3b:46|           0.22|    01|\n",
    "|0f:fe:0f:23:32:6a|           0.16|   111|\n",
    "|da:be:77:8e:5e:c3|           0.12|   100|\n",
    "|82:cd:f7:d7:25:27|           0.15|   110|\n",
    "|c6:ed:fb:56:22:92|           0.10|   000|\n",
    "|4c:5d:00:ef:a2:7f|           0.14|   101|"
   ],
   "cell_type": "markdown",
   "metadata": {}
  }
 ]
}